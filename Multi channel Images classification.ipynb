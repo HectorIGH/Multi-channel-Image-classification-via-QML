{
 "cells": [
  {
   "cell_type": "code",
   "execution_count": 1,
   "metadata": {
    "ExecuteTime": {
     "end_time": "2020-12-18T01:20:28.439104Z",
     "start_time": "2020-12-18T01:20:26.837993Z"
    }
   },
   "outputs": [],
   "source": [
    "# Since training take long, I like to have a voice telling me\n",
    "# in which step are we in. Totally optional.\n",
    "import pyttsx3\n",
    "engine = pyttsx3.init()\n",
    "voices = engine.getProperty('voices')\n",
    "engine.setProperty('voice', voices[1].id)\n",
    "engine.say(\"I'm ready\")\n",
    "engine.runAndWait()"
   ]
  },
  {
   "cell_type": "markdown",
   "metadata": {},
   "source": [
    "# Imports"
   ]
  },
  {
   "cell_type": "code",
   "execution_count": 2,
   "metadata": {
    "ExecuteTime": {
     "end_time": "2020-12-18T01:20:33.554118Z",
     "start_time": "2020-12-18T01:20:29.902092Z"
    }
   },
   "outputs": [],
   "source": [
    "import numpy as np\n",
    "import pandas as pd\n",
    "import matplotlib.pyplot as plt\n",
    "import matplotlib.cm as cm\n",
    "import seaborn as sns\n",
    "import cv2\n",
    "import pickle\n",
    "import os\n",
    "from collections import Counter, defaultdict\n",
    "from itertools import product\n",
    "from sklearn import datasets\n",
    "from sklearn.utils import shuffle\n",
    "from sklearn.metrics import accuracy_score, precision_score, recall_score, f1_score, confusion_matrix, roc_curve, auc, log_loss\n",
    "from sklearn.model_selection import RepeatedKFold, train_test_split\n",
    "from functools import partial, lru_cache\n",
    "from copy import copy\n",
    "from tqdm import tqdm, tqdm_notebook, notebook\n",
    "from operator import itemgetter\n",
    "from PIL import Image\n",
    "from glob import glob\n",
    "\n",
    "from qiskit import ClassicalRegister, QuantumRegister, QuantumCircuit, Aer, execute, IBMQ\n",
    "from qiskit.tools.visualization import circuit_drawer\n",
    "from qiskit.tools.visualization import plot_histogram\n",
    "from qiskit.tools.monitor import job_monitor\n",
    "from qiskit.compiler import transpile, assemble\n",
    "\n",
    "S_simulator = Aer.backends(name = 'statevector_simulator')[0]\n",
    "M_simulator = Aer.backends(name = 'qasm_simulator')[0]\n",
    "\n",
    "%matplotlib inline"
   ]
  },
  {
   "cell_type": "markdown",
   "metadata": {},
   "source": [
    "# Auxiliar functions definition"
   ]
  },
  {
   "cell_type": "code",
   "execution_count": 3,
   "metadata": {
    "ExecuteTime": {
     "end_time": "2020-12-18T01:20:33.692747Z",
     "start_time": "2020-12-18T01:20:33.555116Z"
    }
   },
   "outputs": [],
   "source": [
    "def preprocess(vector):\n",
    "    i_unsigned = np.multiply(-1, vector)\n",
    "    i_binary = [bin(int(n)) for n in i_unsigned]\n",
    "    for index, e in enumerate(i_binary):\n",
    "        if(e[0] == '-'):\n",
    "            i_binary[index] = [-1, list(map(int, str(int(bin(index)[2:]))))]\n",
    "        else:\n",
    "            i_binary[index] = [1, list(map(int, str(int(bin(index)[2:]))))]\n",
    "            \n",
    "    n = int(np.log2(len(i_binary)))\n",
    "    for index, element in enumerate(i_binary):\n",
    "        if (len(element[1]) != n):\n",
    "            while (len(i_binary[index][1]) != n):\n",
    "                i_binary[index][1].insert(0, 0)\n",
    "    i_binary = np.array(i_binary)\n",
    "    return i_binary\n",
    "\n",
    "def check_z(binary):\n",
    "    positive = True # Controls the sign to achieve\n",
    "    \n",
    "    if (int(binary[0][0]) < 0):\n",
    "        positive = False\n",
    "    z_index = []\n",
    "    for index, element in enumerate(binary):\n",
    "        counts = Counter(element[1])\n",
    "        if (counts[1] == 1):\n",
    "            if (positive):\n",
    "                if (int(binary[index][0]) == -1):\n",
    "                    z_index.append(int(np.where(np.array(binary[index][1]) == 1)[0][0]))\n",
    "            else:\n",
    "                if (int(binary[index][0]) == 1):\n",
    "                    z_index.append(int(np.where(np.array(binary[index][1]) == 1)[0][0]))\n",
    "    return z_index\n",
    "\n",
    "def apply_z(binary, Z):\n",
    "    for z in Z:\n",
    "        mask = np.array(list(map(lambda x : x[z] == 1, binary[:,1])))\n",
    "        binary[mask, 0] *= -1\n",
    "    return binary\n",
    "\n",
    "\n",
    "def check_cpz(binary):\n",
    "    CPZ = set()\n",
    "    n = int(np.log2(len(binary)))\n",
    "    sequence = 0\n",
    "    for p in range(2, n + 1):\n",
    "        for ind, e in enumerate(binary):\n",
    "            counts = Counter(e[1])\n",
    "            if (counts[1] == p) and (binary[0][0] != e[0]):\n",
    "                ones = np.where(np.array(e[1]) == 1)[0]\n",
    "                CPZ.add(tuple([sequence, tuple(ones)]))\n",
    "                sequence += 1\n",
    "                \n",
    "                ones_set = set(ones)\n",
    "                mask = np.array(list(map(partial(check_set, ones_set) , binary[:, 1])))\n",
    "                \n",
    "                binary[mask, 0] *= -1\n",
    "                \n",
    "    CPZ = [list(ele) for _, ele in enumerate(CPZ)]\n",
    "    CPZ = sorted(CPZ, key = lambda l: l[0])\n",
    "    CPZ = [list(e[1]) for e in CPZ]\n",
    "    return CPZ\n",
    "\n",
    "def check_set(ones_set, pos_set):\n",
    "    return set.issubset(ones_set, set(np.where(np.array(pos_set) == 1)[0]))\n",
    "\n",
    "def vectorize(number, digits):\n",
    "    digits = 2**(np.ceil(np.log2(digits)))\n",
    "    binary_number = bin(number)[2:]\n",
    "    as_text = str(binary_number)\n",
    "    vectorized_number = [int(d) for d in as_text]\n",
    "    if (digits < len(vectorized_number)):\n",
    "        digits = 2**(np.ceil(np.log2(len(vectorized_number))))\n",
    "    if (digits > len(vectorized_number)):\n",
    "        while (len(vectorized_number) != digits):\n",
    "            vectorized_number.insert(0, 0)\n",
    "    return np.array(vectorized_number)\n",
    "\n",
    "def o_product(i, w):\n",
    "    return (np.abs(np.dot(i, w))/len(i))**2\n",
    "\n",
    "def sign(p):\n",
    "    return np.array([(-1)**i for i in p])\n",
    "\n",
    "def design(p):\n",
    "    return [1 if i < 0 else 0 for i in w]\n",
    "\n",
    "def reindex(N, change):\n",
    "    origin = np.array([i for i in range(N)])\n",
    "    destiny = np.flipud(origin)\n",
    "    \n",
    "    for index, element in enumerate(change):\n",
    "        change[index] = np.where(destiny == element)[0][0]\n",
    "    return change\n",
    "\n",
    "def U(qc, q, Z, CPZ):\n",
    "    for z in Z:\n",
    "        qc.z(q[int(z)])\n",
    "    \n",
    "    for cpz in CPZ:\n",
    "        controls = [q[int(i)] for i in cpz[:-1]]\n",
    "        target = q[int(cpz[-1])]\n",
    "        qc.h(cpz[-1])\n",
    "        qc.mct(controls, target, None, mode='noancilla')\n",
    "        qc.h(cpz[-1])\n",
    "    return qc\n",
    "\n",
    "#@lru_cache(maxsize = None)\n",
    "def gates_sequence(vector):\n",
    "    binary = preprocess(vector.astype('int'))\n",
    "    Z_GATES = check_z(binary)\n",
    "    binary = apply_z(binary, Z_GATES)\n",
    "    CPZ_GATES = check_cpz(binary)\n",
    "    return Z_GATES, CPZ_GATES\n",
    "\n",
    "def perceptron(N = 1, shots = 512, z_gates_w = [], CPZ_gates_w = [], z_gates_i = [], CPZ_gates_i = [], simulation = True):\n",
    "    q = QuantumRegister(N, name = 'q_r')\n",
    "    a = QuantumRegister(1, name = 'a_r')\n",
    "    c = ClassicalRegister(1, name = 'c_r')\n",
    "    qc = QuantumCircuit(q, a, c, name = 'qc')\n",
    "\n",
    "    for index in range(N):\n",
    "        qc.h(q[index])\n",
    "        \n",
    "    qc = U(qc, q, z_gates_i, CPZ_gates_i)\n",
    "    qc = U(qc, q, z_gates_w, CPZ_gates_w)\n",
    "\n",
    "    for index in range(N):\n",
    "        qc.h(q[index])\n",
    "    \n",
    "    for index in range(N):\n",
    "        qc.x(q[index])\n",
    "\n",
    "    qc.mct(q[:], a[0], None, mode='noancilla')    \n",
    "        \n",
    "    qc.measure(a[0], c)\n",
    "    \n",
    "    transpiled_circuit = transpile(qc, M_simulator, optimization_level = 1) # optimization_level = [0, 1, 2, 3]\n",
    "    job = M_simulator.run(assemble(transpiled_circuit, shots = shots))\n",
    "    results = job.result()\n",
    "    \n",
    "    return results #, qc # Return qc only for printing and debbuging\n",
    "\n",
    "\n",
    "def fit(qubits = 1, X_train = np.array([[1]]), Y_train = np.array([[1]]), negative_class = 0, positive_class = 1, epochs = 1, shots = 64, threshold = 0.5, Ip = 0.5, In = 0.5, bias = 0, w = None):\n",
    "    n = len(X_train)\n",
    "    result_matrix = np.zeros((epochs, len(X_train)))\n",
    "    np.random.seed(10)\n",
    "    \n",
    "    #w = np.random.randint(2, size = 2**qubits) # Random generation of initial weight vector. Sign it at once.\n",
    "\n",
    "    \n",
    "    #w = np.random.randint(0, 2, size = (3, 2 ** qubits)).astype('float64')\n",
    "    \n",
    "    #w = np.array(X_train[23])\n",
    "        \n",
    "    weights = []\n",
    "    pos = np.array([])\n",
    "    pos1 = np.array([])\n",
    "    pos2 = np.array([])\n",
    "    \n",
    "    true_labels = np.array([x == number_negative_class for x in Y_train], dtype = 'int')\n",
    "\n",
    "    for epoch in notebook.tqdm(range(epochs), desc = f'Epoches'):\n",
    "        errors = 0\n",
    "        correct = 0\n",
    "        pred_labels = []\n",
    "        for index, training_element in enumerate(notebook.tqdm(X_train, desc = f'Training {epoch}')):\n",
    "\n",
    "            pattern = sign(training_element[0, :]) # Signing the training pattern.\n",
    "            pattern1 = sign(training_element[1, :]) # Signing the training pattern.\n",
    "            pattern2 = sign(training_element[2, :]) # Signing the training pattern.\n",
    "            \n",
    "            wei = sign(w[0, :]) # Signing the weight vector\n",
    "            wei1 = sign(w[1, :]) # Signing the weight vector\n",
    "            wei2 = sign(w[2, :]) # Signing the weight vector\n",
    "            z_gates_i, CPZ_gates_i = gates_sequence(pattern) # Gates to apply to the training pattern vector\n",
    "            z_gates_i1, CPZ_gates_i1 = gates_sequence(pattern1) # Gates to apply to the training pattern vector\n",
    "            z_gates_i2, CPZ_gates_i2 = gates_sequence(pattern2) # Gates to apply to the training pattern vector\n",
    "            z_gates_w, CPZ_gates_w = gates_sequence(wei) # Gates to apply to the weight vector\n",
    "            z_gates_w1, CPZ_gates_w1 = gates_sequence(wei1) # Gates to apply to the weight vector\n",
    "            z_gates_w2, CPZ_gates_w2 = gates_sequence(wei2) # Gates to apply to the weight vector\n",
    "            \n",
    "            \n",
    "            ############################  Quantum Proccess  ############################\n",
    "            \n",
    "            results = perceptron(qubits, shots, z_gates_w, CPZ_gates_w, z_gates_i, CPZ_gates_i)\n",
    "            results1 = perceptron(qubits, shots, z_gates_w1, CPZ_gates_w1, z_gates_i1, CPZ_gates_i1)\n",
    "            results2 = perceptron(qubits, shots, z_gates_w2, CPZ_gates_w2, z_gates_i2, CPZ_gates_i2)\n",
    "            \n",
    "            #########################  End of Quantum Proccess  #########################\n",
    "            \n",
    "            counts = results.get_counts()\n",
    "            counts1 = results1.get_counts()\n",
    "            counts2 = results2.get_counts()\n",
    "        \n",
    "            try:\n",
    "                readout = counts['1'] / shots\n",
    "            except KeyError:\n",
    "                readout = 0\n",
    "            try:\n",
    "                readout1 = counts1['1'] / shots\n",
    "            except KeyError:\n",
    "                readout1 = 0\n",
    "            try:\n",
    "                readout2 = counts2['1'] / shots\n",
    "            except KeyError:\n",
    "                readout2 = 0\n",
    "            \n",
    "            readouts = np.array([readout, readout1, readout2])\n",
    "            temp = np.sum(readouts < threshold)\n",
    "            \n",
    "            clazz = negative_class if temp >= 2 else positive_class # Classification part.\n",
    "            \n",
    "            pred_labels.append(clazz)\n",
    "            \n",
    "            result_matrix[epoch][index] = readout + bias\n",
    "            \n",
    "            if (Y_train[index] == clazz):\n",
    "                correct += 1\n",
    "                continue # Skip the execution to the next iteration\n",
    "            if (clazz == negative_class): # Classified as (negative) when is (positive)\n",
    "                if readouts[0] < threshold:\n",
    "                    coincide = np.argwhere(training_element[0] == w[0]).flatten()\n",
    "                    pos = np.array(list(set(np.random.choice(coincide, int(np.floor(len(coincide) * Ip)), replace = False)))) if len(coincide) > 0 else np.array([])\n",
    "                    print(f'Coincide in {len(coincide)} and change {len(pos)} bits')\n",
    "                if readouts[1] < threshold:\n",
    "                    coincide1 = np.argwhere(training_element[1] == w[1]).flatten()\n",
    "                    pos1 = np.array(list(set(np.random.choice(coincide1, int(np.floor(len(coincide1) * Ip)), replace = False)))) if len(coincide1) > 0 else np.array([])\n",
    "                    print(f'Coincide1 in {len(coincide1)} and change {len(pos1)} bits')\n",
    "                if readouts[2] < threshold:\n",
    "                    coincide2 = np.argwhere(training_element[2] == w[2]).flatten()\n",
    "                    pos2 = np.array(list(set(np.random.choice(coincide2, int(np.floor(len(coincide2) * Ip)), replace = False)))) if len(coincide2) > 0 else np.array([])\n",
    "                    print(f'Coincide2 in {len(coincide2)} and change {len(pos2)} bits')\n",
    "                try:\n",
    "                    w[0][pos] = (w[0][pos] + 1) % 2\n",
    "                    w[1][pos1] = (w[1][pos1] + 1) % 2\n",
    "                    w[2][pos2] = (w[2][pos2] + 1) % 2\n",
    "                except IndexError:\n",
    "                    pass\n",
    "            else: # Classified as 1 (positive) when is 0 (negative)\n",
    "                if readouts[0] >= threshold:\n",
    "                    coincide = np.argwhere(training_element[0] == w[0]).flatten()\n",
    "                    pos = np.array(list(set(np.random.choice(coincide, int(np.floor(len(coincide) * In)), replace = False)))) if len(coincide) > 0 else np.array([])\n",
    "                    print(f'Coincide in {len(coincide)} and change {len(pos)} bits')\n",
    "                if readouts[0] >= threshold:\n",
    "                    coincide1 = np.argwhere(training_element[1] == w[1]).flatten()\n",
    "                    pos1 = np.array(list(set(np.random.choice(coincide1, int(np.floor(len(coincide1) * In)), replace = False)))) if len(coincide1) > 0 else np.array([])\n",
    "                    print(f'Coincide1 in {len(coincide1)} and change {len(pos1)} bits')\n",
    "                if readouts[0] >= threshold:\n",
    "                    coincide2 = np.argwhere(training_element[2] == w[2]).flatten()\n",
    "                    pos2 = np.array(list(set(np.random.choice(coincide2, int(np.floor(len(coincide2) * In)), replace = False)))) if len(coincide2) > 0 else np.array([])\n",
    "                    print(f'Coincide2 in {len(coincide2)} and change {len(pos2)} bits')\n",
    "                try:\n",
    "                    w[0][pos] = (w[0][pos] + 1) % 2\n",
    "                    w[1][pos1] = (w[1][pos1] + 1) % 2\n",
    "                    w[2][pos2] = (w[2][pos2] + 1) % 2\n",
    "                except IndexError:\n",
    "                    pass\n",
    "            errors -= -1\n",
    "        print(f'Errors = {errors} for accuracy of = {1 - errors/len(X_train)}')\n",
    "        weights.append(w)\n",
    "        pred_labels = np.array([x == number_negative_class for x in pred_labels], dtype = 'int')\n",
    "        loss = 0 if number_negative_class == number_positive_class else log_loss(true_labels, pred_labels)\n",
    "    return w, result_matrix, weights, (1 - errors/len(X_train) , loss)\n",
    "\n",
    "def predict(qubits = 1, X_test = np.array([[1]]), negative_class = 0, positive_class = 1, shots = 64, threshold = 0.5, w = 0, bias = 0):\n",
    "    result_matrix = np.zeros(len(X_test))\n",
    "    readout_matrix = np.zeros(len(X_test))\n",
    "    np.random.seed(10)\n",
    "    Y_predicted = np.zeros(len(X_test))\n",
    "    wei  = sign(w[0, :]) # Signing the weight vector\n",
    "    wei1 = sign(w[1, :]) # Signing the weight vector\n",
    "    wei2 = sign(w[2, :]) # Signing the weight vector\n",
    "    z_gates_w, CPZ_gates_w = gates_sequence(wei) # Gates to apply to the weight vector\n",
    "    z_gates_w1, CPZ_gates_w1 = gates_sequence(wei1) # Gates to apply to the weight vector\n",
    "    z_gates_w2, CPZ_gates_w2 = gates_sequence(wei2) # Gates to apply to the weight vector\n",
    "    \n",
    "    for index, training_element in enumerate(notebook.tqdm(X_test, desc = 'Predicting')):\n",
    "            \n",
    "        pattern = sign(training_element[0, :]) # Signing the training pattern.\n",
    "        pattern1 = sign(training_element[1, :]) # Signing the training pattern.\n",
    "        pattern2 = sign(training_element[2, :]) # Signing the training pattern.\n",
    "            \n",
    "        z_gates_i, CPZ_gates_i = gates_sequence(pattern) # Gates to apply to the training pattern vector\n",
    "        z_gates_i1, CPZ_gates_i1 = gates_sequence(pattern1) # Gates to apply to the training pattern vector\n",
    "        z_gates_i2, CPZ_gates_i2 = gates_sequence(pattern2) # Gates to apply to the training pattern vector\n",
    "            \n",
    "        ############################  Quantum Proccess  ############################\n",
    "            \n",
    "        results = perceptron(qubits, shots, z_gates_w, CPZ_gates_w, z_gates_i, CPZ_gates_i)\n",
    "        results1 = perceptron(qubits, shots, z_gates_w1, CPZ_gates_w1, z_gates_i1, CPZ_gates_i1)\n",
    "        results2 = perceptron(qubits, shots, z_gates_w2, CPZ_gates_w2, z_gates_i2, CPZ_gates_i2)\n",
    "            \n",
    "        #########################  End of Quantum Proccess  #########################\n",
    "            \n",
    "        counts = results.get_counts()\n",
    "        counts1 = results1.get_counts()\n",
    "        counts2 = results2.get_counts()\n",
    "        \n",
    "        try:\n",
    "            readout = counts['1'] / shots\n",
    "        except KeyError:\n",
    "            readout = 0\n",
    "        try:\n",
    "            readout1 = counts1['1'] / shots\n",
    "        except KeyError:\n",
    "            readout1 = 0\n",
    "        try:\n",
    "            readout2 = counts2['1'] / shots\n",
    "        except KeyError:\n",
    "            readout2 = 0\n",
    "        \n",
    "        readouts = np.array([readout, readout1, readout2])\n",
    "        temp = np.sum(readouts < threshold)\n",
    "\n",
    "        clazz = negative_class if temp >= 2 else positive_class # Classification part.\n",
    "            \n",
    "        result_matrix[index] = clazz\n",
    "        \n",
    "        readout_matrix[index] = readout + bias\n",
    "\n",
    "    return result_matrix, readout_matrix\n",
    "\n",
    "def evaluate(Y_test, predicted, negative_class, positive_class):\n",
    "    correct = np.argwhere(Y_test == predicted)\n",
    "    accuracy = len(correct) / len(predicted)\n",
    "    ones_and_zeros = [Y_test[ind][0] for ind in correct]\n",
    "    counts = Counter(ones_and_zeros)\n",
    "    confusion_matrix = np.zeros((2,2))\n",
    "    \n",
    "    Y_test_aux = np.zeros_like(Y_test)\n",
    "    predicted_aux = np.zeros_like(predicted)\n",
    "    \n",
    "    Y_test_aux[Y_test == positive_class] = 1\n",
    "    predicted_aux[predicted == positive_class] = 1\n",
    "    \n",
    "    for i in range(len(predicted_aux)):\n",
    "        confusion_matrix[int(Y_test_aux[i])][int(predicted_aux[i])] += 1\n",
    "    return accuracy, counts, confusion_matrix\n",
    "\n",
    "def plot_confusion_matrix(cm, target_names = None, cmap = None, normalize = True, labels = True, title = 'Confusion Matrix'):\n",
    "    accuracy = np.trace(cm) / float(np.sum(cm))\n",
    "    misclass = 1 - accuracy\n",
    "    \n",
    "    if cmap is None:\n",
    "        cmap = plt.get_cmap('Blues')\n",
    "        \n",
    "    if normalize:\n",
    "        cm = cm.astype('float') / cm.sum(axis = 1)[:, np.newaxis]\n",
    "        \n",
    "    plt.figure(figsize = (8, 6))\n",
    "    plt.imshow(cm, interpolation = 'nearest', cmap = cmap)\n",
    "    plt.title(title)\n",
    "    plt.colorbar()\n",
    "    \n",
    "    thresh = cm.max() / 1.5 if normalize else cm.max() / 2\n",
    "    \n",
    "    if target_names is not None:\n",
    "        tick_marks = np.arange(len(target_names))\n",
    "        plt.xticks(tick_marks, target_names)\n",
    "        plt.yticks(tick_marks, target_names)\n",
    "        \n",
    "    if labels:\n",
    "        for i, j in product(range(cm.shape[0]), range(cm.shape[1])):\n",
    "            if normalize:\n",
    "                plt.text(j, i, \"{:0.4f}\".format(cm[i, j]), horizontalalignment = 'center', color = 'white' if cm[i, j] > thresh else 'black')\n",
    "            else:\n",
    "                plt.text(j, i, \"{:,}\".format(cm[i, j]), horizontalalignment = 'center', color = 'white' if cm[i, j] > thresh else 'black')\n",
    "    \n",
    "    plt.tight_layout()\n",
    "    plt.ylabel('True label')\n",
    "    plt.xlabel('Predicted label\\naccuracy = {:0.4f}; misclass = {:0.4f}'.format(accuracy, misclass))\n",
    "    plt.axis('equal')\n",
    "    plt.show()\n",
    "    \n",
    "def save_weight(filename = 'weights.txt', mode = 'a+', weight = []):\n",
    "    with open(filename, mode) as file:\n",
    "        file.write(f'{number_negative_class, number_positive_class}:')\n",
    "        for p in w:\n",
    "            file.write(f'{p},')\n",
    "        file.write('\\n')\n",
    "        \n",
    "def retrieve_weights_from_file(filename = 'weights.txt', full = False):\n",
    "    with open(filename, 'r+') as file:\n",
    "        lines = file.readlines()\n",
    "        \n",
    "        cuadratic = lambda w : int(np.abs((1 - np.sqrt(1 + 8 * w)) / 2))\n",
    "        \n",
    "        nc = int(np.sqrt(len(lines))) if full else cuadratic(len(lines))\n",
    "        \n",
    "        weights_matrix = np.empty((nc, nc), dtype = object)\n",
    "    \n",
    "        for line in lines:\n",
    "            xy, peso = line.split(sep = ':')[0], line.split(sep = ':')[1]\n",
    "            weight = np.array(list(map(int , peso.split(sep = ',')[:-1])))\n",
    "            coordinates = [int(c) for c in xy if c.isdigit()]\n",
    "            weights_matrix[coordinates[0]][coordinates[1]] = weight\n",
    "            if not full:\n",
    "                weights_matrix[coordinates[1]][coordinates[0]] = weight\n",
    "    \n",
    "    return weights_matrix\n",
    "\n",
    "def process(X):\n",
    "    X = X.reshape(X.shape[0], 3, -1)\n",
    "    X = X < 120\n",
    "    X = X.astype('float64')\n",
    "    return X"
   ]
  },
  {
   "cell_type": "markdown",
   "metadata": {},
   "source": [
    "# Training binary classifier\n",
    "## Dataset retrieved from\n",
    "### https://www.kaggle.com/sshikamaru/fruit-recognition"
   ]
  },
  {
   "cell_type": "markdown",
   "metadata": {},
   "source": [
    "## Image Preprocessing and dataset selection"
   ]
  },
  {
   "cell_type": "code",
   "execution_count": 4,
   "metadata": {
    "ExecuteTime": {
     "end_time": "2020-12-18T01:20:52.877787Z",
     "start_time": "2020-12-18T01:20:52.870807Z"
    }
   },
   "outputs": [
    {
     "name": "stdout",
     "output_type": "stream",
     "text": [
      "C:\\Users\\jeff_\\Dropbox\\Jupyter Notebooks\\Quantum\\Thesis\\Multi channel Image classification via QML\\Dataset\\Banana\n"
     ]
    }
   ],
   "source": [
    "DATASET_PATH = os.path.sep.join([os.getcwd(), \"Dataset\"])\n",
    "BANANA_PATH = os.path.sep.join([DATASET_PATH, \"Banana\"])\n",
    "ONION_PATH = os.path.sep.join([DATASET_PATH, \"Onion White\"])\n",
    "print(BANANA_PATH)"
   ]
  },
  {
   "cell_type": "code",
   "execution_count": 5,
   "metadata": {
    "ExecuteTime": {
     "end_time": "2020-12-18T01:20:55.052257Z",
     "start_time": "2020-12-18T01:20:54.310655Z"
    }
   },
   "outputs": [],
   "source": [
    "# Loading images for class 'Banana'\n",
    "#banana_image_list = list(map(Image.open, glob('C:/Users/jeff_/OneDrive - Instituto Politecnico Nacional/Datasets/Fruit Recognition/Banana/*.jpg')))\n",
    "banana_image_list = list(map(Image.open, glob(os.path.sep.join([BANANA_PATH, '*.jpg']))))\n",
    "#banana_filelist = glob('C:/Users/jeff_/OneDrive - Instituto Politecnico Nacional/Datasets/Fruit Recognition/Banana/*.jpg')\n",
    "banana_filelist = glob(os.path.sep.join([BANANA_PATH, '*.jpg']))\n",
    "banana_images_array = [np.array(Image.open(fname)) for fname in banana_filelist]\n",
    "\n",
    "# Loading images for class 'Onion'\n",
    "#onion_image_list = list(map(Image.open, glob('C:/Users/jeff_/OneDrive - Instituto Politecnico Nacional/Datasets/Fruit Recognition/Onion White/*.jpg')))\n",
    "onion_image_list = list(map(Image.open, glob(os.path.sep.join([ONION_PATH, '*.jpg']))))\n",
    "#onion_filelist = glob('C:/Users/jeff_/OneDrive - Instituto Politecnico Nacional/Datasets/Fruit Recognition/Onion White/*.jpg')\n",
    "onion_filelist = glob(os.path.sep.join([ONION_PATH, '*.jpg']))\n",
    "onion_images_array = [np.array(Image.open(fname)) for fname in onion_filelist]"
   ]
  },
  {
   "cell_type": "code",
   "execution_count": 6,
   "metadata": {
    "ExecuteTime": {
     "end_time": "2020-12-18T01:20:55.757210Z",
     "start_time": "2020-12-18T01:20:55.703105Z"
    }
   },
   "outputs": [],
   "source": [
    "# Resizing all images\n",
    "\n",
    "banana_images_array = [cv2.resize(banana_image, (16, 16), interpolation = cv2.INTER_AREA) for banana_image in banana_images_array]\n",
    "onion_images_array = [cv2.resize(onion_image, (16, 16), interpolation = cv2.INTER_AREA) for onion_image in onion_images_array]"
   ]
  },
  {
   "cell_type": "code",
   "execution_count": 7,
   "metadata": {
    "ExecuteTime": {
     "end_time": "2020-12-18T01:20:56.996297Z",
     "start_time": "2020-12-18T01:20:56.742961Z"
    }
   },
   "outputs": [
    {
     "data": {
      "image/png": "[encoded data removed]",
      "text/plain": [
       "<Figure size 432x288 with 2 Axes>"
      ]
     },
     "metadata": {
      "needs_background": "light"
     },
     "output_type": "display_data"
    }
   ],
   "source": [
    "fig, axs = plt.subplots(1, 2, constrained_layout=True)\n",
    "\n",
    "ax0 = axs[0]\n",
    "ax0.imshow(banana_images_array[-1].reshape(16, 16, -1), cmap = 'gray')\n",
    "#ax0.axis('off')\n",
    "ax0.axis('equal')\n",
    "ax0.set_title(f'Banana instance')\n",
    "\n",
    "ax1 = axs[1]\n",
    "ax1.imshow(onion_images_array[-1].reshape(16, 16, -1), cmap = 'gray')\n",
    "#ax1.axis('off')\n",
    "ax1.axis('equal')\n",
    "ax1.set_title(f'Onion instance')\n",
    "\n",
    "fig.suptitle('Sample Instances', fontsize=16)\n",
    "plt.show()"
   ]
  },
  {
   "cell_type": "code",
   "execution_count": 8,
   "metadata": {
    "ExecuteTime": {
     "end_time": "2020-12-18T01:20:57.684959Z",
     "start_time": "2020-12-18T01:20:57.678975Z"
    }
   },
   "outputs": [],
   "source": [
    "# Constructing full dataset and labels\n",
    "\n",
    "images = np.array(banana_images_array + onion_images_array)\n",
    "number_negative_class = 0\n",
    "number_positive_class = 1\n",
    "targets = np.array([number_negative_class] * len(banana_images_array) + [number_positive_class] * len(onion_images_array))"
   ]
  },
  {
   "cell_type": "code",
   "execution_count": 9,
   "metadata": {
    "ExecuteTime": {
     "end_time": "2020-12-18T01:20:58.387335Z",
     "start_time": "2020-12-18T01:20:58.384320Z"
    }
   },
   "outputs": [
    {
     "name": "stdout",
     "output_type": "stream",
     "text": [
      "Total count for dataset: Counter({0: 490, 1: 438})\n"
     ]
    }
   ],
   "source": [
    "targets_count = Counter(targets)\n",
    "print(f'Total count for dataset: {targets_count}')"
   ]
  },
  {
   "cell_type": "code",
   "execution_count": 10,
   "metadata": {
    "ExecuteTime": {
     "end_time": "2020-12-18T01:20:58.948229Z",
     "start_time": "2020-12-18T01:20:58.918345Z"
    }
   },
   "outputs": [],
   "source": [
    "# Shuffling dataset\n",
    "pre_images, pre_targets = shuffle(images, targets, random_state = 0)"
   ]
  },
  {
   "cell_type": "code",
   "execution_count": 11,
   "metadata": {
    "ExecuteTime": {
     "end_time": "2020-12-18T01:20:59.388819Z",
     "start_time": "2020-12-18T01:20:59.382836Z"
    }
   },
   "outputs": [
    {
     "name": "stdout",
     "output_type": "stream",
     "text": [
      "Splitting dataset\n",
      "Training data contains 742 instances with distribution Counter({0: 393, 1: 349})\n",
      "Test data contains 186 instances with distribution Counter({0: 97, 1: 89})\n"
     ]
    }
   ],
   "source": [
    "print('Splitting dataset')\n",
    "\n",
    "X_train, X_test, Y_train, Y_test = train_test_split(pre_images, pre_targets, test_size = 0.2, random_state = 10, shuffle = True)\n",
    "\n",
    "print(f'Training data contains {X_train.shape[0]} instances with distribution {Counter(Y_train)}')\n",
    "print(f'Test data contains {X_test.shape[0]} instances with distribution {Counter(Y_test)}')"
   ]
  },
  {
   "cell_type": "code",
   "execution_count": 12,
   "metadata": {
    "ExecuteTime": {
     "end_time": "2020-12-18T01:21:00.280254Z",
     "start_time": "2020-12-18T01:20:59.927502Z"
    }
   },
   "outputs": [
    {
     "name": "stdout",
     "output_type": "stream",
     "text": [
      "Samples\n"
     ]
    },
    {
     "data": {
      "image/png": "[encoded data removed]",
      "text/plain": [
       "<Figure size 432x288 with 20 Axes>"
      ]
     },
     "metadata": {
      "needs_background": "light"
     },
     "output_type": "display_data"
    }
   ],
   "source": [
    "print(\"Samples\")\n",
    "images_and_labels = list(zip(X_test, Y_test))\n",
    "for index, (image, label) in enumerate(images_and_labels[10:30]):\n",
    "    plt.subplot(2, 10, index + 1)\n",
    "    plt.axis('off')\n",
    "    plt.imshow(image, cmap=plt.cm.gray_r, interpolation='nearest')\n",
    "    plt.title('T: %i' % label)"
   ]
  },
  {
   "cell_type": "code",
   "execution_count": 13,
   "metadata": {
    "ExecuteTime": {
     "end_time": "2020-12-18T01:21:00.707095Z",
     "start_time": "2020-12-18T01:21:00.703101Z"
    }
   },
   "outputs": [],
   "source": [
    "# Reshaping dataset\n",
    "X_train = X_train.reshape(X_train.shape[0], 3, -1)\n",
    "X_test = X_test.reshape(X_test.shape[0], 3, -1)"
   ]
  },
  {
   "cell_type": "code",
   "execution_count": 14,
   "metadata": {
    "ExecuteTime": {
     "end_time": "2020-12-18T01:21:01.477506Z",
     "start_time": "2020-12-18T01:21:01.366802Z"
    }
   },
   "outputs": [
    {
     "data": {
      "image/png": "[encoded data removed]",
      "text/plain": [
       "<Figure size 432x288 with 3 Axes>"
      ]
     },
     "metadata": {
      "needs_background": "light"
     },
     "output_type": "display_data"
    }
   ],
   "source": [
    "fig, axs = plt.subplots(1, 3, constrained_layout=True)\n",
    "\n",
    "sample = X_train[35]\n",
    "\n",
    "axs[0].imshow(sample[0].reshape(16, 16), cmap = 'gray')\n",
    "axs[0].axis('off')\n",
    "axs[0].set_title(f'Channel 1')\n",
    "\n",
    "axs[1].imshow(sample[1].reshape(16, 16), cmap = 'gray')\n",
    "axs[1].axis('off')\n",
    "axs[1].set_title(f'Channel 2')\n",
    "\n",
    "axs[2].imshow(sample[2].reshape(16, 16), cmap = 'gray')\n",
    "axs[2].axis('off')\n",
    "axs[2].set_title(f'Channel 3')\n",
    "\n",
    "fig.suptitle('Sample Channels', fontsize=16)\n",
    "plt.show()"
   ]
  },
  {
   "cell_type": "code",
   "execution_count": 15,
   "metadata": {
    "ExecuteTime": {
     "end_time": "2020-12-18T01:21:03.095161Z",
     "start_time": "2020-12-18T01:21:01.943515Z"
    }
   },
   "outputs": [
    {
     "data": {
      "text/plain": [
       "(0, 4000)"
      ]
     },
     "execution_count": 15,
     "metadata": {},
     "output_type": "execute_result"
    },
    {
     "data": {
      "image/png": "[encoded data removed]",
      "text/plain": [
       "<Figure size 432x288 with 1 Axes>"
      ]
     },
     "metadata": {
      "needs_background": "light"
     },
     "output_type": "display_data"
    }
   ],
   "source": [
    "# Quick histogram to manually select binarization threshold\n",
    "tempi = np.array([x for x in X_train.flatten() if x < 120])\n",
    "plt.hist(tempi, bins = 250)\n",
    "plt.xlim((0, 255))\n",
    "plt.ylim((0, 4_000))"
   ]
  },
  {
   "cell_type": "code",
   "execution_count": 16,
   "metadata": {
    "ExecuteTime": {
     "end_time": "2020-12-18T01:21:03.105099Z",
     "start_time": "2020-12-18T01:21:03.097155Z"
    }
   },
   "outputs": [],
   "source": [
    "# Binarization via threshold\n",
    "X_test = X_test < 120\n",
    "X_train = X_train < 120\n",
    "X_test = X_test.astype('float64')\n",
    "X_train = X_train.astype('float64')"
   ]
  },
  {
   "cell_type": "code",
   "execution_count": 17,
   "metadata": {
    "ExecuteTime": {
     "end_time": "2020-12-18T01:21:03.606198Z",
     "start_time": "2020-12-18T01:21:03.238499Z"
    }
   },
   "outputs": [
    {
     "data": {
      "image/png": "[encoded data removed]",
      "text/plain": [
       "<Figure size 1440x720 with 8 Axes>"
      ]
     },
     "metadata": {
      "needs_background": "light"
     },
     "output_type": "display_data"
    }
   ],
   "source": [
    "# Sample images after binarization\n",
    "\n",
    "images_and_labels = list(zip(X_train, Y_train))\n",
    "fig = plt.figure(figsize = (20,10))\n",
    "for index, (image, label) in enumerate(images_and_labels[10:18]):\n",
    "    plt.subplot(2, 4, index + 1)\n",
    "    plt.axis('off')\n",
    "    plt.imshow(image.reshape(16, 16, -1), cmap=plt.cm.gray_r, interpolation='nearest')\n",
    "plt.tight_layout()\n",
    "plt.show()"
   ]
  },
  {
   "cell_type": "markdown",
   "metadata": {},
   "source": [
    "## Fitting the classifier"
   ]
  },
  {
   "cell_type": "code",
   "execution_count": 41,
   "metadata": {
    "ExecuteTime": {
     "end_time": "2020-12-18T02:53:47.352874Z",
     "start_time": "2020-12-18T02:21:08.892567Z"
    }
   },
   "outputs": [
    {
     "name": "stdout",
     "output_type": "stream",
     "text": [
      "Training on a 1 2-Fold cross validation. For each fold the model is trained to achieve at least 0.5 in accuracy.\n"
     ]
    },
    {
     "data": {
      "application/vnd.jupyter.widget-view+json": {
       "model_id": "289acfff6999412c8043493eb2726659",
       "version_major": 2,
       "version_minor": 0
      },
      "text/plain": [
       "HBox(children=(FloatProgress(value=0.0, description='Epoches', max=1.0, style=ProgressStyle(description_width=…"
      ]
     },
     "metadata": {},
     "output_type": "display_data"
    },
    {
     "data": {
      "application/vnd.jupyter.widget-view+json": {
       "model_id": "da1e535f601a4ba48df6287dbb395be0",
       "version_major": 2,
       "version_minor": 0
      },
      "text/plain": [
       "HBox(children=(FloatProgress(value=0.0, description='Training 0', max=464.0, style=ProgressStyle(description_w…"
      ]
     },
     "metadata": {},
     "output_type": "display_data"
    },
    {
     "name": "stdout",
     "output_type": "stream",
     "text": [
      "Coincide in 256 and change 25 bits\n",
      "Coincide1 in 256 and change 25 bits\n",
      "Coincide2 in 256 and change 25 bits\n",
      "Coincide1 in 160 and change 128 bits\n",
      "Coincide2 in 146 and change 116 bits\n",
      "Coincide1 in 81 and change 64 bits\n",
      "Coincide2 in 67 and change 53 bits\n",
      "Coincide in 226 and change 22 bits\n",
      "Coincide1 in 56 and change 5 bits\n",
      "Coincide2 in 64 and change 6 bits\n",
      "Coincide in 204 and change 20 bits\n",
      "Coincide1 in 61 and change 6 bits\n",
      "Coincide2 in 97 and change 9 bits\n",
      "Coincide in 179 and change 143 bits\n",
      "Coincide2 in 67 and change 53 bits\n",
      "Coincide in 48 and change 4 bits\n",
      "Coincide1 in 56 and change 5 bits\n",
      "Coincide2 in 78 and change 7 bits\n",
      "Coincide in 47 and change 4 bits\n",
      "Coincide1 in 51 and change 5 bits\n",
      "Coincide2 in 65 and change 6 bits\n",
      "Coincide in 65 and change 52 bits\n",
      "Coincide1 in 69 and change 55 bits\n",
      "Coincide in 51 and change 5 bits\n",
      "Coincide1 in 103 and change 10 bits\n",
      "Coincide2 in 58 and change 5 bits\n",
      "Coincide in 46 and change 4 bits\n",
      "Coincide1 in 91 and change 9 bits\n",
      "Coincide2 in 54 and change 5 bits\n",
      "Coincide in 39 and change 3 bits\n",
      "Coincide1 in 90 and change 9 bits\n",
      "Coincide2 in 59 and change 5 bits\n",
      "Coincide in 45 and change 4 bits\n",
      "Coincide1 in 72 and change 7 bits\n",
      "Coincide2 in 56 and change 5 bits\n",
      "Coincide1 in 71 and change 56 bits\n",
      "Coincide2 in 69 and change 55 bits\n",
      "Coincide in 49 and change 4 bits\n",
      "Coincide1 in 94 and change 9 bits\n",
      "Coincide2 in 60 and change 6 bits\n",
      "Coincide in 44 and change 4 bits\n",
      "Coincide1 in 85 and change 8 bits\n",
      "Coincide2 in 58 and change 5 bits\n",
      "Coincide in 53 and change 5 bits\n",
      "Coincide1 in 83 and change 8 bits\n",
      "Coincide2 in 57 and change 5 bits\n",
      "Coincide in 40 and change 4 bits\n",
      "Coincide1 in 98 and change 9 bits\n",
      "Coincide2 in 51 and change 5 bits\n",
      "Coincide in 41 and change 4 bits\n",
      "Coincide1 in 80 and change 8 bits\n",
      "Coincide2 in 58 and change 5 bits\n",
      "Coincide in 32 and change 3 bits\n",
      "Coincide1 in 73 and change 7 bits\n",
      "Coincide2 in 52 and change 5 bits\n",
      "Coincide in 37 and change 3 bits\n",
      "Coincide1 in 75 and change 7 bits\n",
      "Coincide2 in 52 and change 5 bits\n",
      "Coincide in 35 and change 3 bits\n",
      "Coincide1 in 71 and change 7 bits\n",
      "Coincide2 in 57 and change 5 bits\n",
      "Coincide in 33 and change 3 bits\n",
      "Coincide1 in 91 and change 9 bits\n",
      "Coincide2 in 37 and change 3 bits\n",
      "Coincide in 30 and change 3 bits\n",
      "Coincide1 in 62 and change 6 bits\n",
      "Coincide2 in 82 and change 8 bits\n",
      "Coincide in 37 and change 3 bits\n",
      "Coincide1 in 92 and change 9 bits\n",
      "Coincide2 in 57 and change 5 bits\n",
      "Coincide in 35 and change 3 bits\n",
      "Coincide1 in 85 and change 8 bits\n",
      "Coincide2 in 58 and change 5 bits\n",
      "Coincide in 25 and change 2 bits\n",
      "Coincide1 in 98 and change 9 bits\n",
      "Coincide2 in 58 and change 5 bits\n",
      "Coincide in 38 and change 3 bits\n",
      "Coincide1 in 72 and change 7 bits\n",
      "Coincide2 in 57 and change 5 bits\n",
      "Coincide in 26 and change 2 bits\n",
      "Coincide1 in 63 and change 6 bits\n",
      "Coincide2 in 81 and change 8 bits\n",
      "Coincide1 in 77 and change 61 bits\n",
      "Coincide2 in 64 and change 51 bits\n",
      "Coincide in 26 and change 2 bits\n",
      "Coincide1 in 58 and change 5 bits\n",
      "Coincide2 in 80 and change 8 bits\n",
      "Coincide in 23 and change 2 bits\n",
      "Coincide1 in 57 and change 5 bits\n",
      "Coincide2 in 69 and change 6 bits\n",
      "Coincide in 22 and change 2 bits\n",
      "Coincide1 in 65 and change 6 bits\n",
      "Coincide2 in 63 and change 6 bits\n",
      "Coincide in 20 and change 2 bits\n",
      "Coincide1 in 56 and change 5 bits\n",
      "Coincide2 in 55 and change 5 bits\n",
      "Coincide in 25 and change 2 bits\n",
      "Coincide1 in 68 and change 6 bits\n",
      "Coincide2 in 63 and change 6 bits\n",
      "Coincide1 in 77 and change 61 bits\n",
      "Coincide2 in 76 and change 60 bits\n",
      "Coincide in 31 and change 3 bits\n",
      "Coincide1 in 98 and change 9 bits\n",
      "Coincide2 in 63 and change 6 bits\n",
      "Coincide in 27 and change 2 bits\n",
      "Coincide1 in 83 and change 8 bits\n",
      "Coincide2 in 51 and change 5 bits\n",
      "Coincide in 31 and change 3 bits\n",
      "Coincide1 in 65 and change 6 bits\n",
      "Coincide2 in 61 and change 6 bits\n",
      "Coincide in 32 and change 3 bits\n",
      "Coincide1 in 111 and change 11 bits\n",
      "Coincide2 in 63 and change 6 bits\n",
      "Coincide in 31 and change 3 bits\n",
      "Coincide1 in 88 and change 8 bits\n",
      "Coincide2 in 63 and change 6 bits\n",
      "Coincide in 31 and change 3 bits\n",
      "Coincide1 in 69 and change 6 bits\n",
      "Coincide2 in 53 and change 5 bits\n",
      "Coincide1 in 84 and change 67 bits\n",
      "Coincide2 in 73 and change 58 bits\n",
      "Coincide in 29 and change 2 bits\n",
      "Coincide1 in 76 and change 7 bits\n",
      "Coincide2 in 63 and change 6 bits\n",
      "Coincide in 23 and change 2 bits\n",
      "Coincide1 in 61 and change 6 bits\n",
      "Coincide2 in 86 and change 8 bits\n",
      "Coincide in 27 and change 2 bits\n",
      "Coincide1 in 57 and change 5 bits\n",
      "Coincide2 in 61 and change 6 bits\n",
      "Coincide in 28 and change 2 bits\n",
      "Coincide1 in 68 and change 6 bits\n",
      "Coincide2 in 57 and change 5 bits\n",
      "Coincide in 20 and change 2 bits\n",
      "Coincide1 in 57 and change 5 bits\n",
      "Coincide2 in 65 and change 6 bits\n",
      "Coincide1 in 73 and change 58 bits\n",
      "Coincide2 in 71 and change 56 bits\n",
      "Coincide in 30 and change 3 bits\n",
      "Coincide1 in 71 and change 7 bits\n",
      "Coincide2 in 50 and change 5 bits\n",
      "Coincide in 33 and change 3 bits\n",
      "Coincide1 in 74 and change 7 bits\n",
      "Coincide2 in 53 and change 5 bits\n",
      "Coincide in 34 and change 3 bits\n",
      "Coincide1 in 78 and change 7 bits\n",
      "Coincide2 in 50 and change 5 bits\n",
      "Coincide in 20 and change 2 bits\n",
      "Coincide1 in 69 and change 6 bits\n",
      "Coincide2 in 64 and change 6 bits\n",
      "Coincide in 33 and change 3 bits\n",
      "Coincide1 in 94 and change 9 bits\n",
      "Coincide2 in 50 and change 5 bits\n",
      "Coincide in 20 and change 2 bits\n",
      "Coincide1 in 64 and change 6 bits\n",
      "Coincide2 in 76 and change 7 bits\n",
      "Coincide in 28 and change 2 bits\n",
      "Coincide1 in 82 and change 8 bits\n",
      "Coincide2 in 46 and change 4 bits\n",
      "Coincide in 26 and change 2 bits\n",
      "Coincide1 in 81 and change 8 bits\n",
      "Coincide2 in 59 and change 5 bits\n",
      "\n",
      "Errors = 57 for accuracy of = 0.8771551724137931\n",
      "\n"
     ]
    },
    {
     "data": {
      "application/vnd.jupyter.widget-view+json": {
       "model_id": "19ee07dbd29d42c08f450b4b84b65563",
       "version_major": 2,
       "version_minor": 0
      },
      "text/plain": [
       "HBox(children=(FloatProgress(value=0.0, description='Predicting', max=464.0, style=ProgressStyle(description_w…"
      ]
     },
     "metadata": {},
     "output_type": "display_data"
    },
    {
     "name": "stdout",
     "output_type": "stream",
     "text": [
      "\n",
      "acc: 0.8943965517241379, precision: 0.9949494949494949, recall: 0.8040816326530612, f1: 0.8893905191873589\n"
     ]
    },
    {
     "data": {
      "application/vnd.jupyter.widget-view+json": {
       "model_id": "cf87e02510ac45d68afed240961f31fc",
       "version_major": 2,
       "version_minor": 0
      },
      "text/plain": [
       "HBox(children=(FloatProgress(value=0.0, description='Epoches', max=1.0, style=ProgressStyle(description_width=…"
      ]
     },
     "metadata": {},
     "output_type": "display_data"
    },
    {
     "data": {
      "application/vnd.jupyter.widget-view+json": {
       "model_id": "7369268e5c8d41399ad4dc7eb5486353",
       "version_major": 2,
       "version_minor": 0
      },
      "text/plain": [
       "HBox(children=(FloatProgress(value=0.0, description='Training 0', max=464.0, style=ProgressStyle(description_w…"
      ]
     },
     "metadata": {},
     "output_type": "display_data"
    },
    {
     "name": "stdout",
     "output_type": "stream",
     "text": [
      "Coincide in 256 and change 25 bits\n",
      "Coincide1 in 256 and change 25 bits\n",
      "Coincide2 in 256 and change 25 bits\n",
      "Coincide in 229 and change 22 bits\n",
      "Coincide1 in 193 and change 19 bits\n",
      "Coincide2 in 231 and change 23 bits\n",
      "Coincide1 in 166 and change 132 bits\n",
      "Coincide2 in 151 and change 120 bits\n",
      "Coincide1 in 79 and change 63 bits\n",
      "Coincide2 in 67 and change 53 bits\n",
      "Coincide in 201 and change 20 bits\n",
      "Coincide1 in 73 and change 7 bits\n",
      "Coincide2 in 43 and change 4 bits\n",
      "Coincide in 187 and change 149 bits\n",
      "Coincide1 in 74 and change 59 bits\n",
      "Coincide in 57 and change 5 bits\n",
      "Coincide1 in 57 and change 5 bits\n",
      "Coincide2 in 101 and change 10 bits\n",
      "Coincide in 56 and change 5 bits\n",
      "Coincide1 in 66 and change 6 bits\n",
      "Coincide2 in 59 and change 5 bits\n",
      "Coincide in 51 and change 5 bits\n",
      "Coincide1 in 61 and change 6 bits\n",
      "Coincide2 in 68 and change 6 bits\n",
      "Coincide in 51 and change 5 bits\n",
      "Coincide1 in 53 and change 5 bits\n",
      "Coincide2 in 87 and change 8 bits\n",
      "Coincide in 51 and change 5 bits\n",
      "Coincide1 in 51 and change 5 bits\n",
      "Coincide2 in 102 and change 10 bits\n",
      "Coincide in 49 and change 4 bits\n",
      "Coincide1 in 61 and change 6 bits\n",
      "Coincide2 in 58 and change 5 bits\n",
      "Coincide in 45 and change 4 bits\n",
      "Coincide1 in 63 and change 6 bits\n",
      "Coincide2 in 49 and change 4 bits\n",
      "Coincide in 42 and change 4 bits\n",
      "Coincide1 in 53 and change 5 bits\n",
      "Coincide2 in 94 and change 9 bits\n",
      "Coincide in 67 and change 53 bits\n",
      "Coincide1 in 67 and change 53 bits\n",
      "Coincide2 in 70 and change 56 bits\n",
      "Coincide in 50 and change 5 bits\n",
      "Coincide1 in 78 and change 7 bits\n",
      "Coincide2 in 50 and change 5 bits\n",
      "Coincide in 53 and change 5 bits\n",
      "Coincide1 in 76 and change 7 bits\n",
      "Coincide2 in 58 and change 5 bits\n",
      "Coincide in 41 and change 4 bits\n",
      "Coincide1 in 59 and change 5 bits\n",
      "Coincide2 in 45 and change 4 bits\n",
      "Coincide in 53 and change 5 bits\n",
      "Coincide1 in 88 and change 8 bits\n",
      "Coincide2 in 49 and change 4 bits\n",
      "Coincide in 37 and change 3 bits\n",
      "Coincide1 in 69 and change 6 bits\n",
      "Coincide2 in 54 and change 5 bits\n",
      "Coincide in 44 and change 4 bits\n",
      "Coincide1 in 60 and change 6 bits\n",
      "Coincide2 in 91 and change 9 bits\n",
      "Coincide in 40 and change 4 bits\n",
      "Coincide1 in 60 and change 6 bits\n",
      "Coincide2 in 90 and change 9 bits\n",
      "Coincide in 41 and change 4 bits\n",
      "Coincide1 in 69 and change 6 bits\n",
      "Coincide2 in 61 and change 6 bits\n",
      "Coincide in 37 and change 3 bits\n",
      "Coincide1 in 67 and change 6 bits\n",
      "Coincide2 in 64 and change 6 bits\n",
      "Coincide in 33 and change 3 bits\n",
      "Coincide1 in 54 and change 5 bits\n",
      "Coincide2 in 61 and change 6 bits\n",
      "Coincide in 44 and change 4 bits\n",
      "Coincide1 in 69 and change 6 bits\n",
      "Coincide2 in 61 and change 6 bits\n",
      "Coincide in 31 and change 3 bits\n",
      "Coincide1 in 58 and change 5 bits\n",
      "Coincide2 in 68 and change 6 bits\n",
      "Coincide in 28 and change 2 bits\n",
      "Coincide1 in 54 and change 5 bits\n",
      "Coincide2 in 58 and change 5 bits\n",
      "Coincide in 24 and change 2 bits\n",
      "Coincide1 in 55 and change 5 bits\n",
      "Coincide2 in 60 and change 6 bits\n",
      "Coincide in 19 and change 1 bits\n",
      "Coincide1 in 46 and change 4 bits\n",
      "Coincide2 in 65 and change 6 bits\n",
      "Coincide in 19 and change 1 bits\n",
      "Coincide1 in 51 and change 5 bits\n",
      "Coincide2 in 59 and change 5 bits\n",
      "Coincide in 32 and change 3 bits\n",
      "Coincide1 in 57 and change 5 bits\n",
      "Coincide2 in 62 and change 6 bits\n",
      "Coincide in 23 and change 2 bits\n",
      "Coincide1 in 39 and change 3 bits\n",
      "Coincide2 in 49 and change 4 bits\n",
      "Coincide in 28 and change 2 bits\n",
      "Coincide1 in 49 and change 4 bits\n",
      "Coincide2 in 65 and change 6 bits\n",
      "Coincide in 20 and change 2 bits\n",
      "Coincide1 in 40 and change 4 bits\n",
      "Coincide2 in 46 and change 4 bits\n",
      "Coincide in 23 and change 2 bits\n",
      "Coincide1 in 45 and change 4 bits\n",
      "Coincide2 in 58 and change 5 bits\n",
      "Coincide in 30 and change 3 bits\n",
      "Coincide1 in 68 and change 6 bits\n",
      "Coincide2 in 56 and change 5 bits\n",
      "Coincide in 25 and change 2 bits\n",
      "Coincide1 in 58 and change 5 bits\n",
      "Coincide2 in 53 and change 5 bits\n",
      "Coincide1 in 88 and change 70 bits\n",
      "Coincide2 in 73 and change 58 bits\n",
      "Coincide in 24 and change 2 bits\n",
      "Coincide1 in 97 and change 9 bits\n",
      "Coincide2 in 60 and change 6 bits\n",
      "Coincide in 27 and change 2 bits\n",
      "Coincide1 in 84 and change 8 bits\n",
      "Coincide2 in 46 and change 4 bits\n",
      "Coincide in 26 and change 2 bits\n",
      "Coincide1 in 67 and change 6 bits\n",
      "Coincide2 in 43 and change 4 bits\n",
      "Coincide in 24 and change 2 bits\n",
      "Coincide1 in 70 and change 7 bits\n",
      "Coincide2 in 53 and change 5 bits\n",
      "Coincide1 in 71 and change 56 bits\n",
      "Coincide2 in 67 and change 53 bits\n",
      "Coincide in 24 and change 2 bits\n",
      "Coincide1 in 50 and change 5 bits\n",
      "Coincide2 in 80 and change 8 bits\n",
      "Coincide in 25 and change 2 bits\n",
      "Coincide1 in 72 and change 7 bits\n",
      "Coincide2 in 57 and change 5 bits\n",
      "Coincide in 20 and change 2 bits\n",
      "Coincide1 in 52 and change 5 bits\n",
      "Coincide2 in 85 and change 8 bits\n",
      "Coincide in 23 and change 2 bits\n",
      "Coincide1 in 62 and change 6 bits\n",
      "Coincide2 in 54 and change 5 bits\n",
      "Coincide in 18 and change 1 bits\n",
      "Coincide1 in 44 and change 4 bits\n",
      "Coincide2 in 69 and change 6 bits\n",
      "Coincide in 13 and change 1 bits\n",
      "Coincide1 in 43 and change 4 bits\n",
      "Coincide2 in 63 and change 6 bits\n",
      "Coincide1 in 85 and change 68 bits\n",
      "Coincide2 in 70 and change 56 bits\n",
      "Coincide1 in 68 and change 54 bits\n",
      "Coincide2 in 65 and change 52 bits\n",
      "Coincide in 14 and change 1 bits\n",
      "Coincide1 in 61 and change 6 bits\n",
      "Coincide2 in 96 and change 9 bits\n",
      "Coincide in 16 and change 1 bits\n",
      "Coincide1 in 78 and change 7 bits\n",
      "Coincide2 in 51 and change 5 bits\n",
      "Coincide in 20 and change 2 bits\n",
      "Coincide1 in 83 and change 8 bits\n",
      "Coincide2 in 62 and change 6 bits\n",
      "Coincide in 18 and change 1 bits\n",
      "Coincide1 in 63 and change 6 bits\n",
      "Coincide2 in 53 and change 5 bits\n",
      "Coincide in 23 and change 2 bits\n",
      "Coincide1 in 74 and change 7 bits\n",
      "Coincide2 in 57 and change 5 bits\n",
      "Coincide in 16 and change 1 bits\n",
      "Coincide1 in 54 and change 5 bits\n",
      "Coincide2 in 53 and change 5 bits\n",
      "Coincide1 in 66 and change 52 bits\n",
      "Coincide2 in 67 and change 53 bits\n",
      "Coincide in 27 and change 2 bits\n",
      "Coincide1 in 63 and change 6 bits\n",
      "Coincide2 in 51 and change 5 bits\n",
      "Coincide in 31 and change 3 bits\n",
      "Coincide1 in 67 and change 6 bits\n",
      "Coincide2 in 53 and change 5 bits\n",
      "Coincide in 27 and change 2 bits\n",
      "Coincide1 in 76 and change 7 bits\n",
      "Coincide2 in 61 and change 6 bits\n",
      "Coincide in 27 and change 2 bits\n",
      "Coincide1 in 68 and change 6 bits\n",
      "Coincide2 in 50 and change 5 bits\n",
      "Coincide in 26 and change 2 bits\n",
      "Coincide1 in 74 and change 7 bits\n",
      "Coincide2 in 64 and change 6 bits\n",
      "Coincide in 65 and change 52 bits\n",
      "Coincide1 in 64 and change 51 bits\n",
      "Coincide in 59 and change 5 bits\n",
      "Coincide1 in 93 and change 9 bits\n",
      "Coincide2 in 59 and change 5 bits\n",
      "Coincide in 56 and change 5 bits\n",
      "Coincide1 in 77 and change 7 bits\n",
      "Coincide2 in 52 and change 5 bits\n",
      "Coincide in 42 and change 4 bits\n",
      "Coincide1 in 76 and change 7 bits\n",
      "Coincide2 in 45 and change 4 bits\n",
      "Coincide in 44 and change 4 bits\n",
      "Coincide1 in 72 and change 7 bits\n",
      "Coincide2 in 59 and change 5 bits\n",
      "Coincide in 46 and change 4 bits\n",
      "Coincide1 in 84 and change 8 bits\n",
      "Coincide2 in 46 and change 4 bits\n",
      "Coincide in 47 and change 4 bits\n",
      "Coincide1 in 69 and change 6 bits\n",
      "Coincide2 in 52 and change 5 bits\n",
      "Coincide in 39 and change 3 bits\n",
      "Coincide1 in 77 and change 7 bits\n",
      "Coincide2 in 56 and change 5 bits\n",
      "Coincide in 35 and change 3 bits\n",
      "Coincide1 in 71 and change 7 bits\n",
      "Coincide2 in 63 and change 6 bits\n",
      "Coincide in 36 and change 3 bits\n",
      "Coincide1 in 74 and change 7 bits\n",
      "Coincide2 in 52 and change 5 bits\n",
      "Coincide in 31 and change 3 bits\n",
      "Coincide1 in 67 and change 6 bits\n",
      "Coincide2 in 60 and change 6 bits\n",
      "Coincide in 36 and change 3 bits\n",
      "Coincide1 in 58 and change 5 bits\n",
      "Coincide2 in 45 and change 4 bits\n",
      "Coincide in 23 and change 2 bits\n",
      "Coincide1 in 63 and change 6 bits\n",
      "Coincide2 in 91 and change 9 bits\n",
      "Coincide in 26 and change 2 bits\n",
      "Coincide1 in 56 and change 5 bits\n",
      "Coincide2 in 66 and change 6 bits\n",
      "Coincide in 25 and change 2 bits\n",
      "Coincide1 in 52 and change 5 bits\n",
      "Coincide2 in 66 and change 6 bits\n",
      "Coincide1 in 72 and change 57 bits\n",
      "Coincide2 in 66 and change 52 bits\n",
      "\n",
      "Errors = 81 for accuracy of = 0.8254310344827587\n",
      "\n"
     ]
    },
    {
     "data": {
      "application/vnd.jupyter.widget-view+json": {
       "model_id": "227db3348e5244bda3677e4eb3dd73e7",
       "version_major": 2,
       "version_minor": 0
      },
      "text/plain": [
       "HBox(children=(FloatProgress(value=0.0, description='Predicting', max=464.0, style=ProgressStyle(description_w…"
      ]
     },
     "metadata": {},
     "output_type": "display_data"
    },
    {
     "name": "stdout",
     "output_type": "stream",
     "text": [
      "\n",
      "acc: 0.8599137931034483, precision: 1.0, recall: 0.7346938775510204, f1: 0.8470588235294119\n"
     ]
    }
   ],
   "source": [
    "Q = 8\n",
    "test_threshold = 0.25\n",
    "rs = 0\n",
    "acc = 0\n",
    "acc_threshold = 0.5\n",
    "shots = 1024 * 8\n",
    "\n",
    "splits = 2\n",
    "repeats = 1\n",
    "\n",
    "print(f'Training on a {repeats} {splits}-Fold cross validation. For each fold the model is trained to achieve at least {acc_threshold} in accuracy.')\n",
    "# Training for accuracy instead of epochs simulates a callback\n",
    "\n",
    "rkf = RepeatedKFold(n_splits = splits, n_repeats = repeats, random_state = 10)\n",
    "metrics = defaultdict(list)\n",
    "\n",
    "engine.say(\"Initiating cross validation\")\n",
    "engine.runAndWait()\n",
    "\n",
    "for rep, (train_index, test_index) in enumerate(rkf.split(pre_images)):\n",
    "    engine.say(f\"Initiating repetition {rep + 1}\")\n",
    "    engine.runAndWait()\n",
    "    X_train, X_test = process(pre_images[train_index]), process(pre_images[test_index])\n",
    "    Y_train, Y_test = pre_targets[train_index], pre_targets[test_index]\n",
    "    w = X_train[0] # Shortcut for faster training. Could and should be set to random\n",
    "    acc = 0\n",
    "    while acc < acc_threshold:\n",
    "        w, m, weights, ae = fit(qubits = Q, X_train = X_train[:], Y_train = Y_train[:], negative_class = number_negative_class, positive_class = number_positive_class, epochs = 1, shots = shots, threshold = test_threshold, Ip = .8, In = .1, bias = 0.0, w = w)\n",
    "        classification, readouts = predict(qubits = Q, X_test = X_test, negative_class = number_negative_class, positive_class = number_positive_class, shots = shots, threshold = test_threshold, w = weights[0], bias = 0.0)\n",
    "        acc = accuracy_score(Y_test, classification)\n",
    "        ps = precision_score(Y_test, classification, average = 'binary', pos_label = number_negative_class)\n",
    "        rs = recall_score(Y_test, classification, average = 'binary', pos_label = number_negative_class)\n",
    "        f1s = f1_score(Y_test, classification, average = 'binary', pos_label = number_negative_class)\n",
    "        print(f'acc: {acc}, precision: {ps}, recall: {rs}, f1: {f1s}')\n",
    "        true_labels = np.array([x == number_negative_class for x in Y_test], dtype = 'int')\n",
    "        loss = 0 if number_negative_class == number_positive_class else log_loss(true_labels, np.array([x == number_negative_class for x in classification], dtype = 'int'))\n",
    "        #loss = 0 if number_negative_class == number_positive_class else log_loss(Y_test, np.array([x == number_negative_class for x in classification], dtype = 'int'))\n",
    "    engine.say(f\"Saving metrics\")\n",
    "    engine.runAndWait()\n",
    "    metrics['acc'].append(ae[0])\n",
    "    metrics['acc_val'].append(acc)\n",
    "    metrics['loss'].append(ae[1])\n",
    "    metrics['lossval'].append(loss)\n",
    "    metrics['precision'].append(ps)\n",
    "    metrics['recall'].append(rs)\n",
    "    metrics['f1'].append(f1s)\n",
    "engine.say(\"Finished evaluation. Ready to proceed\")\n",
    "engine.runAndWait()"
   ]
  },
  {
   "cell_type": "code",
   "execution_count": 20,
   "metadata": {
    "ExecuteTime": {
     "end_time": "2020-12-18T02:02:44.087000Z",
     "start_time": "2020-12-18T02:02:44.083973Z"
    }
   },
   "outputs": [],
   "source": [
    "# Save metrics adn weight vector to pickle\n",
    "\n",
    "#pickle.dump(metrics, open(\"metrics.p\", \"wb\"))\n",
    "#pickle.dump(w, open(\"weight.p\", \"wb\"))"
   ]
  },
  {
   "cell_type": "code",
   "execution_count": 21,
   "metadata": {
    "ExecuteTime": {
     "end_time": "2020-12-18T02:02:44.937474Z",
     "start_time": "2020-12-18T02:02:44.931517Z"
    }
   },
   "outputs": [],
   "source": [
    "# Load the metrics and weight vector back from the pickle file.\n",
    "\n",
    "#metrics = pickle.load(open(\"metrics.p\", \"rb\"))\n",
    "#w = pickle.load(open(\"weight.p\", \"rb\"))"
   ]
  },
  {
   "cell_type": "code",
   "execution_count": 42,
   "metadata": {
    "ExecuteTime": {
     "end_time": "2020-12-18T02:57:04.898215Z",
     "start_time": "2020-12-18T02:57:04.873243Z"
    },
    "scrolled": true
   },
   "outputs": [
    {
     "data": {
      "text/html": [
       "<div>\n",
       "<style scoped>\n",
       "    .dataframe tbody tr th:only-of-type {\n",
       "        vertical-align: middle;\n",
       "    }\n",
       "\n",
       "    .dataframe tbody tr th {\n",
       "        vertical-align: top;\n",
       "    }\n",
       "\n",
       "    .dataframe thead th {\n",
       "        text-align: right;\n",
       "    }\n",
       "</style>\n",
       "<table border=\"1\" class=\"dataframe\">\n",
       "  <thead>\n",
       "    <tr style=\"text-align: right;\">\n",
       "      <th></th>\n",
       "      <th>acc</th>\n",
       "      <th>acc_val</th>\n",
       "      <th>loss</th>\n",
       "      <th>lossval</th>\n",
       "      <th>precision</th>\n",
       "      <th>recall</th>\n",
       "      <th>f1</th>\n",
       "    </tr>\n",
       "  </thead>\n",
       "  <tbody>\n",
       "    <tr>\n",
       "      <th>count</th>\n",
       "      <td>2.000000</td>\n",
       "      <td>2.000000</td>\n",
       "      <td>2.000000</td>\n",
       "      <td>2.000000</td>\n",
       "      <td>2.000000</td>\n",
       "      <td>2.000000</td>\n",
       "      <td>2.000000</td>\n",
       "    </tr>\n",
       "    <tr>\n",
       "      <th>mean</th>\n",
       "      <td>0.851293</td>\n",
       "      <td>0.877155</td>\n",
       "      <td>5.136171</td>\n",
       "      <td>4.242911</td>\n",
       "      <td>0.997475</td>\n",
       "      <td>0.769388</td>\n",
       "      <td>0.868225</td>\n",
       "    </tr>\n",
       "    <tr>\n",
       "      <th>std</th>\n",
       "      <td>0.036574</td>\n",
       "      <td>0.024383</td>\n",
       "      <td>1.263241</td>\n",
       "      <td>0.842158</td>\n",
       "      <td>0.003571</td>\n",
       "      <td>0.049065</td>\n",
       "      <td>0.029933</td>\n",
       "    </tr>\n",
       "    <tr>\n",
       "      <th>min</th>\n",
       "      <td>0.825431</td>\n",
       "      <td>0.859914</td>\n",
       "      <td>4.242926</td>\n",
       "      <td>3.647416</td>\n",
       "      <td>0.994949</td>\n",
       "      <td>0.734694</td>\n",
       "      <td>0.847059</td>\n",
       "    </tr>\n",
       "    <tr>\n",
       "      <th>25%</th>\n",
       "      <td>0.838362</td>\n",
       "      <td>0.868534</td>\n",
       "      <td>4.689549</td>\n",
       "      <td>3.945163</td>\n",
       "      <td>0.996212</td>\n",
       "      <td>0.752041</td>\n",
       "      <td>0.857642</td>\n",
       "    </tr>\n",
       "    <tr>\n",
       "      <th>50%</th>\n",
       "      <td>0.851293</td>\n",
       "      <td>0.877155</td>\n",
       "      <td>5.136171</td>\n",
       "      <td>4.242911</td>\n",
       "      <td>0.997475</td>\n",
       "      <td>0.769388</td>\n",
       "      <td>0.868225</td>\n",
       "    </tr>\n",
       "    <tr>\n",
       "      <th>75%</th>\n",
       "      <td>0.864224</td>\n",
       "      <td>0.885776</td>\n",
       "      <td>5.582794</td>\n",
       "      <td>4.540659</td>\n",
       "      <td>0.998737</td>\n",
       "      <td>0.786735</td>\n",
       "      <td>0.878808</td>\n",
       "    </tr>\n",
       "    <tr>\n",
       "      <th>max</th>\n",
       "      <td>0.877155</td>\n",
       "      <td>0.894397</td>\n",
       "      <td>6.029417</td>\n",
       "      <td>4.838406</td>\n",
       "      <td>1.000000</td>\n",
       "      <td>0.804082</td>\n",
       "      <td>0.889391</td>\n",
       "    </tr>\n",
       "  </tbody>\n",
       "</table>\n",
       "</div>"
      ],
      "text/plain": [
       "            acc   acc_val      loss   lossval  precision    recall        f1\n",
       "count  2.000000  2.000000  2.000000  2.000000   2.000000  2.000000  2.000000\n",
       "mean   0.851293  0.877155  5.136171  4.242911   0.997475  0.769388  0.868225\n",
       "std    0.036574  0.024383  1.263241  0.842158   0.003571  0.049065  0.029933\n",
       "min    0.825431  0.859914  4.242926  3.647416   0.994949  0.734694  0.847059\n",
       "25%    0.838362  0.868534  4.689549  3.945163   0.996212  0.752041  0.857642\n",
       "50%    0.851293  0.877155  5.136171  4.242911   0.997475  0.769388  0.868225\n",
       "75%    0.864224  0.885776  5.582794  4.540659   0.998737  0.786735  0.878808\n",
       "max    0.877155  0.894397  6.029417  4.838406   1.000000  0.804082  0.889391"
      ]
     },
     "execution_count": 42,
     "metadata": {},
     "output_type": "execute_result"
    }
   ],
   "source": [
    "# Making a DataFrame from metrics to easy plotting and analysis\n",
    "df = pd.DataFrame(metrics)\n",
    "df.describe()"
   ]
  },
  {
   "cell_type": "code",
   "execution_count": 43,
   "metadata": {
    "ExecuteTime": {
     "end_time": "2020-12-18T02:57:11.148193Z",
     "start_time": "2020-12-18T02:57:11.008567Z"
    }
   },
   "outputs": [
    {
     "data": {
      "image/png": "[encoded data removed]",
      "text/plain": [
       "<Figure size 432x288 with 1 Axes>"
      ]
     },
     "metadata": {
      "needs_background": "light"
     },
     "output_type": "display_data"
    }
   ],
   "source": [
    "fig, ax = plt.subplots(1, 1)\n",
    "\n",
    "ax.imshow(w.reshape(16, 16, 3))\n",
    "#ax.axis('off')\n",
    "ax.axis('equal')\n",
    "ax.set_title(f'Image Weight Vector')\n",
    "plt.tight_layout()\n",
    "plt.show()"
   ]
  },
  {
   "cell_type": "code",
   "execution_count": 44,
   "metadata": {
    "ExecuteTime": {
     "end_time": "2020-12-18T02:57:13.763005Z",
     "start_time": "2020-12-18T02:57:13.607421Z"
    }
   },
   "outputs": [
    {
     "data": {
      "text/plain": [
       "<matplotlib.axes._subplots.AxesSubplot at 0x12499d01e88>"
      ]
     },
     "execution_count": 44,
     "metadata": {},
     "output_type": "execute_result"
    },
    {
     "data": {
      "image/png": "[encoded data removed]",
      "text/plain": [
       "<Figure size 432x288 with 1 Axes>"
      ]
     },
     "metadata": {
      "needs_background": "light"
     },
     "output_type": "display_data"
    }
   ],
   "source": [
    "# Quick plot just for data validation\n",
    "df.plot()"
   ]
  },
  {
   "cell_type": "code",
   "execution_count": 45,
   "metadata": {
    "ExecuteTime": {
     "end_time": "2020-12-18T02:57:33.778717Z",
     "start_time": "2020-12-18T02:57:33.248138Z"
    }
   },
   "outputs": [
    {
     "data": {
      "image/png": "[encoded data removed]",
      "text/plain": [
       "<Figure size 1440x720 with 4 Axes>"
      ]
     },
     "metadata": {
      "needs_background": "light"
     },
     "output_type": "display_data"
    }
   ],
   "source": [
    "fig = plt.figure(figsize = (20, 10))\n",
    "ax1 = fig.add_subplot(141)\n",
    "ax2 = fig.add_subplot(142)\n",
    "ax3 = fig.add_subplot(143)\n",
    "ax4 = fig.add_subplot(144)\n",
    "\n",
    "ax1.imshow(w.reshape(16, 16, 3), cmap = plt.cm.gray, interpolation = 'nearest')\n",
    "ax2.imshow(w.reshape(16, 16, 3)[..., 0], cmap = plt.cm.gray, interpolation = 'nearest')\n",
    "ax3.imshow(w.reshape(16, 16, 3)[..., 1], cmap = plt.cm.gray, interpolation = 'nearest')\n",
    "ax4.imshow(w.reshape(16, 16, 3)[..., 2], cmap = plt.cm.gray, interpolation = 'nearest')\n",
    "\n",
    "ax1.set_title('Weight Vector Image', size=25)\n",
    "ax2.set_title('First Channel', size=25)\n",
    "ax3.set_title('Second Channel', size=25)\n",
    "ax4.set_title('Third Channel', size=25)\n",
    "\n",
    "plt.tight_layout()\n",
    "plt.show()"
   ]
  },
  {
   "cell_type": "code",
   "execution_count": 48,
   "metadata": {
    "ExecuteTime": {
     "end_time": "2020-12-18T02:58:59.321839Z",
     "start_time": "2020-12-18T02:58:58.936575Z"
    }
   },
   "outputs": [
    {
     "data": {
      "image/png": "[encoded data removed]",
      "text/plain": [
       "<Figure size 1440x720 with 3 Axes>"
      ]
     },
     "metadata": {
      "needs_background": "light"
     },
     "output_type": "display_data"
    }
   ],
   "source": [
    "# Precision, Recall and F1 plot\n",
    "precision = df['precision']\n",
    "recall = df['recall']\n",
    "f1 = df['f1']\n",
    "\n",
    "epochs = range(1, (splits * repeats) + 1)\n",
    "\n",
    "fig = plt.figure(figsize = (20, 10))\n",
    "ax1 = fig.add_subplot(221)\n",
    "ax2 = fig.add_subplot(222)\n",
    "ax3 = fig.add_subplot(212)\n",
    "\n",
    "ax1.plot(epochs, precision, 'g', label = 'Precision')\n",
    "ax1.plot(epochs, [precision.values.mean()] * len(precision), c = 'black', label = 'Precision Promedio', ls = 'dashed', linewidth = 4)\n",
    "\n",
    "ax2.plot(epochs, recall, 'b', label = 'Recall')\n",
    "ax2.plot(epochs, [recall.values.mean()] * len(recall), c = 'red', label = 'Recall Promedio', ls = 'dashed', linewidth = 4)\n",
    "\n",
    "ax3.plot(epochs, f1, 'orange', label = 'F1')\n",
    "ax3.plot(epochs, [f1.values.mean()] * len(precision), c = 'brown', label = 'F1 Promedio', ls = 'dashed', linewidth = 4)\n",
    "\n",
    "ax1.set_title('Precision', size=25)\n",
    "ax1.set_xlabel('Fold', fontdict = {'fontsize' : 15})\n",
    "ax1.set_ylabel('Precision', fontdict = {'fontsize' : 15})\n",
    "ax1.legend(prop={'size': 15})\n",
    "ax1.set_xticks(ticks = epochs)\n",
    "ax1.tick_params(labelsize = 13)\n",
    "\n",
    "ax2.set_title('Recall', size=25)\n",
    "ax2.set_xlabel('Fold', fontdict = {'fontsize' : 15})\n",
    "ax2.set_ylabel('Recall', fontdict = {'fontsize' : 15})\n",
    "ax2.legend(prop={'size': 15})\n",
    "ax2.set_xticks(ticks = epochs)\n",
    "ax2.tick_params(labelsize = 13)\n",
    "\n",
    "ax3.set_title('F1', size=25)\n",
    "ax3.set_xlabel('Fold', fontdict = {'fontsize' : 15})\n",
    "ax3.set_ylabel('F1', fontdict = {'fontsize' : 15})\n",
    "ax3.legend(prop={'size': 15})\n",
    "ax3.set_xticks(ticks = epochs)\n",
    "ax3.tick_params(labelsize = 13)\n",
    "plt.tight_layout()\n",
    "plt.show()"
   ]
  },
  {
   "cell_type": "code",
   "execution_count": 49,
   "metadata": {
    "ExecuteTime": {
     "end_time": "2020-12-18T02:59:11.150639Z",
     "start_time": "2020-12-18T02:59:10.952113Z"
    }
   },
   "outputs": [
    {
     "data": {
      "image/png": "[encoded data removed]",
      "text/plain": [
       "<Figure size 1440x720 with 1 Axes>"
      ]
     },
     "metadata": {
      "needs_background": "light"
     },
     "output_type": "display_data"
    }
   ],
   "source": [
    "# Accuracy plot\n",
    "acc = df['acc']\n",
    "acc_val = df['acc_val']\n",
    "\n",
    "epochs = range(1, (splits * repeats) + 1)\n",
    "\n",
    "plt.figure(figsize = (20, 10))\n",
    "plt.plot(epochs, acc, 'g', label = 'Training Accuracy')\n",
    "plt.plot(epochs, [acc.values.mean()] * len(acc), 'black', label = 'Avg. Training Accuracy', ls = 'dashdot', linewidth = 4)\n",
    "plt.plot(epochs, acc_val, 'b', label = 'Validation Accuracy')\n",
    "plt.plot(epochs, [acc_val.values.mean()] * len(acc_val), 'red', label = 'Avg. Validation Accuracy', ls = 'dashed', linewidth = 4)\n",
    "plt.title('Training and Validation Accuracy', fontdict = {'fontsize' : 25})\n",
    "plt.xlabel('Fold', fontdict = {'fontsize' : 15})\n",
    "plt.ylabel('Accuracy', fontdict = {'fontsize' : 15})\n",
    "plt.legend()\n",
    "plt.xlim((0, 26))\n",
    "plt.xticks(ticks = epochs)\n",
    "plt.tick_params(labelsize = 12)\n",
    "plt.legend(prop={'size': 15})\n",
    "plt.show()"
   ]
  },
  {
   "cell_type": "markdown",
   "metadata": {},
   "source": [
    "## Predicting and evaluating a single trained classifier"
   ]
  },
  {
   "cell_type": "code",
   "execution_count": 94,
   "metadata": {
    "ExecuteTime": {
     "end_time": "2020-12-17T05:47:13.601880Z",
     "start_time": "2020-12-17T05:47:02.143912Z"
    }
   },
   "outputs": [
    {
     "data": {
      "application/vnd.jupyter.widget-view+json": {
       "model_id": "d1188287b3874ec1b65acb1239f2f645",
       "version_major": 2,
       "version_minor": 0
      },
      "text/plain": [
       "HBox(children=(FloatProgress(value=0.0, description='Epoches', max=1.0, style=ProgressStyle(description_width=…"
      ]
     },
     "metadata": {},
     "output_type": "display_data"
    },
    {
     "data": {
      "application/vnd.jupyter.widget-view+json": {
       "model_id": "ee75973d152a492a8d3908593d19872c",
       "version_major": 2,
       "version_minor": 0
      },
      "text/plain": [
       "HBox(children=(FloatProgress(value=0.0, description='Training 0', max=10.0, style=ProgressStyle(description_wi…"
      ]
     },
     "metadata": {},
     "output_type": "display_data"
    },
    {
     "name": "stdout",
     "output_type": "stream",
     "text": [
      "\n",
      "Errors = 0 for accuracy of = 1.0\n",
      "\n"
     ]
    }
   ],
   "source": [
    "Q = 8\n",
    "test_threshold = 0.25\n",
    "rs = 0\n",
    "acc = 0\n",
    "shots = 1024 * 8\n",
    "N = 10 # -1 for full dataset\n",
    "w, m, weights, ae = fit(qubits = Q, X_train = X_train[:N], Y_train = Y_train[:N], negative_class = number_negative_class, positive_class = number_positive_class, epochs = 1, shots = shots, threshold = test_threshold, Ip = .8, In = .1, bias = 0.0, w = w)"
   ]
  },
  {
   "cell_type": "code",
   "execution_count": 95,
   "metadata": {
    "ExecuteTime": {
     "end_time": "2020-12-17T05:47:24.981344Z",
     "start_time": "2020-12-17T05:47:16.293832Z"
    }
   },
   "outputs": [
    {
     "data": {
      "application/vnd.jupyter.widget-view+json": {
       "model_id": "50f4fcefe7674a3cbbc22bf33ac44804",
       "version_major": 2,
       "version_minor": 0
      },
      "text/plain": [
       "HBox(children=(FloatProgress(value=0.0, description='Predicting', max=10.0, style=ProgressStyle(description_wi…"
      ]
     },
     "metadata": {},
     "output_type": "display_data"
    },
    {
     "name": "stdout",
     "output_type": "stream",
     "text": [
      "\n"
     ]
    }
   ],
   "source": [
    "classification, readouts = predict(qubits = Q, X_test = X_test[:N], negative_class = number_negative_class, positive_class = number_positive_class, shots = shots, threshold = test_threshold, w = weights[0], bias = 0.0)"
   ]
  },
  {
   "cell_type": "code",
   "execution_count": 99,
   "metadata": {
    "ExecuteTime": {
     "end_time": "2020-12-17T05:49:26.279261Z",
     "start_time": "2020-12-17T05:49:26.052867Z"
    },
    "scrolled": true
   },
   "outputs": [
    {
     "data": {
      "text/plain": [
       "<matplotlib.colorbar.Colorbar at 0x21ac2115c08>"
      ]
     },
     "execution_count": 99,
     "metadata": {},
     "output_type": "execute_result"
    },
    {
     "data": {
      "image/png": "[encoded data removed]",
      "text/plain": [
       "<Figure size 432x288 with 2 Axes>"
      ]
     },
     "metadata": {},
     "output_type": "display_data"
    }
   ],
   "source": [
    "c = plt.imshow(np.array(w).reshape(16, 16, 3)[..., :], cmap = 'gray_r')\n",
    "plt.colorbar(c)"
   ]
  },
  {
   "cell_type": "code",
   "execution_count": 100,
   "metadata": {
    "ExecuteTime": {
     "end_time": "2020-12-17T05:49:27.955346Z",
     "start_time": "2020-12-17T05:49:27.949345Z"
    }
   },
   "outputs": [
    {
     "name": "stdout",
     "output_type": "stream",
     "text": [
      "Accuracy = 0.0\n",
      "Counts = Counter()\n",
      "Confusion Matrix = \n",
      "[[3. 1.]\n",
      " [0. 6.]]\n"
     ]
    },
    {
     "name": "stderr",
     "output_type": "stream",
     "text": [
      "C:\\Users\\jeff_\\Anaconda3\\lib\\site-packages\\ipykernel_launcher.py:326: DeprecationWarning: elementwise comparison failed; this will raise an error in the future.\n"
     ]
    }
   ],
   "source": [
    "accuracy, counts, confusion_matriX = evaluate(Y_test, classification, number_negative_class, number_positive_class)\n",
    "print(f'Accuracy = {accuracy}')\n",
    "print(f'Counts = {counts}')\n",
    "print(f'Confusion Matrix = \\n{confusion_matriX}')"
   ]
  },
  {
   "cell_type": "code",
   "execution_count": 101,
   "metadata": {
    "ExecuteTime": {
     "end_time": "2020-12-17T05:49:30.366288Z",
     "start_time": "2020-12-17T05:49:30.197706Z"
    }
   },
   "outputs": [
    {
     "data": {
      "image/png": "[encoded data removed]",
      "text/plain": [
       "<Figure size 576x432 with 2 Axes>"
      ]
     },
     "metadata": {},
     "output_type": "display_data"
    }
   ],
   "source": [
    "plot_confusion_matrix(confusion_matriX, target_names = np.array([number_negative_class, number_positive_class]), labels = True, normalize = False)"
   ]
  },
  {
   "cell_type": "code",
   "execution_count": 102,
   "metadata": {
    "ExecuteTime": {
     "end_time": "2020-12-17T05:49:31.883942Z",
     "start_time": "2020-12-17T05:49:31.877984Z"
    }
   },
   "outputs": [
    {
     "data": {
      "text/plain": [
       "0.9"
      ]
     },
     "execution_count": 102,
     "metadata": {},
     "output_type": "execute_result"
    }
   ],
   "source": [
    "accuracy_score(Y_test[:N], classification)"
   ]
  },
  {
   "cell_type": "code",
   "execution_count": 103,
   "metadata": {
    "ExecuteTime": {
     "end_time": "2020-12-17T05:49:32.273658Z",
     "start_time": "2020-12-17T05:49:32.268673Z"
    }
   },
   "outputs": [
    {
     "data": {
      "text/plain": [
       "1.0"
      ]
     },
     "execution_count": 103,
     "metadata": {},
     "output_type": "execute_result"
    }
   ],
   "source": [
    "precision_score(Y_test[:N], classification, average = 'binary', pos_label = number_negative_class)"
   ]
  },
  {
   "cell_type": "code",
   "execution_count": 104,
   "metadata": {
    "ExecuteTime": {
     "end_time": "2020-12-17T05:49:32.578481Z",
     "start_time": "2020-12-17T05:49:32.572499Z"
    }
   },
   "outputs": [
    {
     "data": {
      "text/plain": [
       "0.75"
      ]
     },
     "execution_count": 104,
     "metadata": {},
     "output_type": "execute_result"
    }
   ],
   "source": [
    "recall_score(Y_test[:N], classification, average = 'binary', pos_label = number_negative_class)"
   ]
  },
  {
   "cell_type": "code",
   "execution_count": 105,
   "metadata": {
    "ExecuteTime": {
     "end_time": "2020-12-17T05:49:32.842012Z",
     "start_time": "2020-12-17T05:49:32.836029Z"
    }
   },
   "outputs": [
    {
     "data": {
      "text/plain": [
       "0.8571428571428571"
      ]
     },
     "execution_count": 105,
     "metadata": {},
     "output_type": "execute_result"
    }
   ],
   "source": [
    "f1_score(Y_test[:N], classification, average = 'binary', pos_label = number_negative_class)"
   ]
  },
  {
   "cell_type": "code",
   "execution_count": 106,
   "metadata": {
    "ExecuteTime": {
     "end_time": "2020-12-17T05:49:33.350065Z",
     "start_time": "2020-12-17T05:49:33.093344Z"
    }
   },
   "outputs": [
    {
     "name": "stdout",
     "output_type": "stream",
     "text": [
      "AUC: 0.875\n"
     ]
    },
    {
     "data": {
      "image/png": "[encoded data removed]",
      "text/plain": [
       "<Figure size 720x576 with 1 Axes>"
      ]
     },
     "metadata": {},
     "output_type": "display_data"
    }
   ],
   "source": [
    "test = [0 if ele == number_negative_class else 1 for ele in Y_test[:N]]\n",
    "classi = [0 if ele == number_negative_class else 1 for ele in classification]\n",
    "\n",
    "fpr, tpr, thresholds = roc_curve(test, classi)\n",
    "\n",
    "def ROC_curve(fpr,tpr):\n",
    "    # Seaborn's beautiful styling\n",
    "    sns.set_style('darkgrid', {'axes.facecolor': '0.9'})\n",
    "    print('AUC: {}'.format(auc(fpr, tpr)))\n",
    "    plt.figure(figsize=(10, 8))\n",
    "    lw = 2\n",
    "    plt.plot(fpr, tpr, color='darkorange',\n",
    "             lw=lw, label='ROC curve')\n",
    "    plt.plot([0, 1], [0, 1], color='navy', lw=lw, linestyle='--')\n",
    "    plt.xlim([0.0, 1.0])\n",
    "    plt.ylim([0.0, 1.05])\n",
    "    plt.yticks([i/20.0 for i in range(21)], fontsize = 15)\n",
    "    plt.xticks([i/20.0 for i in range(21)], fontsize = 15)\n",
    "    plt.xlabel('False Positive Rate', fontsize = 20)\n",
    "    plt.ylabel('True Positive Rate', fontsize = 20)\n",
    "    plt.title('Receiver operating characteristic (ROC) Curve', fontsize = 20)\n",
    "    plt.legend(loc='lower right')\n",
    "    plt.show()\n",
    "\n",
    "ROC_curve(fpr,tpr)\n",
    "sns.set_style('white', {'axes.facecolor': '0.9'})\n"
   ]
  },
  {
   "cell_type": "markdown",
   "metadata": {},
   "source": [
    "## Plotting misclassified samples"
   ]
  },
  {
   "cell_type": "code",
   "execution_count": 115,
   "metadata": {
    "ExecuteTime": {
     "end_time": "2020-12-17T05:52:00.249112Z",
     "start_time": "2020-12-17T05:52:00.245134Z"
    }
   },
   "outputs": [],
   "source": [
    "# Getting a list of misclassifications\n",
    "fails = np.where(classification != Y_test[:N])[0]"
   ]
  },
  {
   "cell_type": "code",
   "execution_count": 116,
   "metadata": {
    "ExecuteTime": {
     "end_time": "2020-12-17T05:52:06.668602Z",
     "start_time": "2020-12-17T05:52:04.341702Z"
    }
   },
   "outputs": [
    {
     "data": {
      "image/png": "[encoded data removed]",
      "text/plain": [
       "<Figure size 1080x648 with 16 Axes>"
      ]
     },
     "metadata": {},
     "output_type": "display_data"
    }
   ],
   "source": [
    "fig, axs = plt.subplots(3, max(5, int(np.ceil(len(fails) / 3))), figsize=(15,9))\n",
    "count = 0\n",
    "\n",
    "for i in range(3):\n",
    "    for j in range(int(np.ceil(len(fails) / 3))):\n",
    "        ax = axs[i][j]\n",
    "        \n",
    "        #c = ax.pcolor(thetas[i + j][1:].reshape(28, 28), cmap = 'gray')\n",
    "        try:\n",
    "            c = ax.imshow(np.array(X_test[fails[count]]).reshape(16, 16, 3), cmap = 'gray_r', interpolation='nearest')\n",
    "            ax.axis('off')\n",
    "            ax.axis('equal')\n",
    "            ax.set_title(f'Classified as {classification[fails[count]]}').set_position([0.5, 1.1])\n",
    "            count += 1\n",
    "        except IndexError:\n",
    "            continue\n",
    "\n",
    "fig.suptitle('Misclassifications', fontsize=16).set_position([0.5, 1.05])\n",
    "fig.tight_layout()\n",
    "plt.colorbar(c)\n",
    "plt.show()"
   ]
  },
  {
   "cell_type": "code",
   "execution_count": 80,
   "metadata": {
    "ExecuteTime": {
     "end_time": "2020-12-17T05:40:37.952950Z",
     "start_time": "2020-12-17T05:40:37.949965Z"
    }
   },
   "outputs": [],
   "source": [
    "# Since is only one weight vector, I prefer doing a pickle\n",
    "#filename = 'weights_OvA.txt'\n",
    "#mode = 'a+'\n",
    "#save_weight(filename = filename, mode = mode, weight = w)"
   ]
  }
 ],
 "metadata": {
  "kernelspec": {
   "display_name": "Python 3",
   "language": "python",
   "name": "python3"
  },
  "language_info": {
   "codemirror_mode": {
    "name": "ipython",
    "version": 3
   },
   "file_extension": ".py",
   "mimetype": "text/x-python",
   "name": "python",
   "nbconvert_exporter": "python",
   "pygments_lexer": "ipython3",
   "version": "3.7.4"
  },
  "varInspector": {
   "cols": {
    "lenName": 16,
    "lenType": 16,
    "lenVar": 40
   },
   "kernels_config": {
    "python": {
     "delete_cmd_postfix": "",
     "delete_cmd_prefix": "del ",
     "library": "var_list.py",
     "varRefreshCmd": "print(var_dic_list())"
    },
    "r": {
     "delete_cmd_postfix": ") ",
     "delete_cmd_prefix": "rm(",
     "library": "var_list.r",
     "varRefreshCmd": "cat(var_dic_list()) "
    }
   },
   "position": {
    "height": "144px",
    "left": "1166px",
    "right": "20px",
    "top": "119px",
    "width": "350px"
   },
   "types_to_exclude": [
    "module",
    "function",
    "builtin_function_or_method",
    "instance",
    "_Feature"
   ],
   "window_display": false
  }
 },
 "nbformat": 4,
 "nbformat_minor": 2
}
